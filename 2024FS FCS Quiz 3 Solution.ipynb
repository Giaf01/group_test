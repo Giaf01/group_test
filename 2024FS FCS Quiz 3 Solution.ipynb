{
 "cells": [
  {
   "cell_type": "markdown",
   "metadata": {
    "id": "eBp1SiSwVY9V"
   },
   "source": [
    "## Quiz 3"
   ]
  },
  {
   "cell_type": "markdown",
   "metadata": {
    "id": "yZx_sFyXVau7"
   },
   "source": [
    "### Q1"
   ]
  },
  {
   "cell_type": "code",
   "execution_count": null,
   "metadata": {
    "executionInfo": {
     "elapsed": 5,
     "status": "ok",
     "timestamp": 1710258490082,
     "user": {
      "displayName": "Jing Wu",
      "userId": "10674388336962839260"
     },
     "user_tz": -60
    },
    "id": "jSITnJg4VclP"
   },
   "outputs": [],
   "source": [
    "def calculate_range_sum(operation = 'sum', start = 0, stop = 4, step = 1):\n",
    "  if operation == 'sum':\n",
    "    return sum(range(start, stop, step))\n",
    "  elif operation == 'square':\n",
    "    range_sum = 0\n",
    "    for i in range(start, stop, step):\n",
    "      range_sum += i ** 2\n",
    "    return range_sum\n",
    "  elif not isinstance(operation, str):\n",
    "    raise TypeError(f'Argument operation needs to be of type String, not {type(operation)}.')\n",
    "  else:\n",
    "    raise ValueError(f'Operation {operation} is not known')"
   ]
  },
  {
   "attachments": {},
   "cell_type": "markdown",
   "metadata": {},
   "source": [
    "![Screenshot 2024-03-13 at 00.13.11.png](<attachment:Screenshot 2024-03-13 at 00.13.11.png>)"
   ]
  },
  {
   "cell_type": "markdown",
   "metadata": {},
   "source": [
    "**Arguments in the function calling**:\n",
    "- If parameters are specified with default values, they can be omitted in the function call, and Python will use the defaults provided in the function definition.\n",
    "- Keyword arguments can be used in the function call to specify a specific value. In Python, the order of keyword arguments does not matter."
   ]
  },
  {
   "cell_type": "code",
   "execution_count": null,
   "metadata": {},
   "outputs": [],
   "source": [
    "calculate_range_sum(operation = 'sum', step = 2)"
   ]
  },
  {
   "cell_type": "code",
   "execution_count": null,
   "metadata": {
    "colab": {
     "base_uri": "https://localhost:8080/"
    },
    "executionInfo": {
     "elapsed": 4,
     "status": "ok",
     "timestamp": 1710258529543,
     "user": {
      "displayName": "Jing Wu",
      "userId": "10674388336962839260"
     },
     "user_tz": -60
    },
    "id": "E0g09pBVWYhy",
    "outputId": "217b1138-68f1-489f-a024-c4379257b6d6"
   },
   "outputs": [],
   "source": [
    "# Achtung: Default-Parameter müssen funktionieren\n",
    "# Würde nicht funktionieren:\n",
    "def calculate_range_sum(operation = 'aufsummieren', start = 0, stop = 4, step = 1):\n",
    "  if operation == 'sum':\n",
    "    return sum(range(start, stop, step))\n",
    "    #....\n",
    "  else:\n",
    "    raise ValueError(f'Operation {operation} is not known')"
   ]
  },
  {
   "cell_type": "code",
   "execution_count": null,
   "metadata": {
    "colab": {
     "base_uri": "https://localhost:8080/"
    },
    "executionInfo": {
     "elapsed": 355,
     "status": "ok",
     "timestamp": 1710258562188,
     "user": {
      "displayName": "Jing Wu",
      "userId": "10674388336962839260"
     },
     "user_tz": -60
    },
    "id": "yoUqOIXNWokd",
    "outputId": "fc7e2aa5-06e4-4772-c5f4-47f1cb7ce077"
   },
   "outputs": [],
   "source": [
    "calculate_range_sum('square')"
   ]
  },
  {
   "cell_type": "code",
   "execution_count": null,
   "metadata": {
    "colab": {
     "base_uri": "https://localhost:8080/"
    },
    "executionInfo": {
     "elapsed": 239,
     "status": "ok",
     "timestamp": 1710258790680,
     "user": {
      "displayName": "Jing Wu",
      "userId": "10674388336962839260"
     },
     "user_tz": -60
    },
    "id": "g_fjOOcIXgUN",
    "outputId": "27b1e90d-24cc-4156-af13-22297b0b7773"
   },
   "outputs": [],
   "source": [
    "calculate_range_sum('square', step = 2)"
   ]
  },
  {
   "cell_type": "code",
   "execution_count": null,
   "metadata": {
    "colab": {
     "base_uri": "https://localhost:8080/"
    },
    "executionInfo": {
     "elapsed": 289,
     "status": "ok",
     "timestamp": 1710258802997,
     "user": {
      "displayName": "Jing Wu",
      "userId": "10674388336962839260"
     },
     "user_tz": -60
    },
    "id": "TCNZC9WZXjCF",
    "outputId": "0e176378-08d7-43af-9c4d-90b5273c3cf5"
   },
   "outputs": [],
   "source": [
    "calculate_range_sum('square', 2, 4,1)"
   ]
  },
  {
   "cell_type": "code",
   "execution_count": null,
   "metadata": {},
   "outputs": [],
   "source": [
    "# Der Rückgabewert ist 6 wenn die Funktion mit calculate_range_sum() aufgerufen wird\n",
    "calculate_range_sum()"
   ]
  },
  {
   "cell_type": "code",
   "execution_count": null,
   "metadata": {},
   "outputs": [],
   "source": [
    "# Der Rückgabewert ist 6 wenn die Funktion mit calculate_range_sum(step=2) aufgerufen wird\n",
    "calculate_range_sum(step=2)\n",
    "\n",
    "# Hier wird die Range 0, 2 aufsummiert (ohne 4 da exklusive End Range)"
   ]
  },
  {
   "cell_type": "code",
   "execution_count": null,
   "metadata": {},
   "outputs": [],
   "source": [
    "# ohne explizite Parameter-Namen wird die Reihenfolge der Parameter erwartet, also als allererstes hier operation, dann start, dann stop, dann step\n",
    "calculate_range_sum(2, 2, 2)"
   ]
  },
  {
   "cell_type": "markdown",
   "metadata": {
    "id": "cfnfdt9DVayC"
   },
   "source": [
    "### Q2"
   ]
  },
  {
   "cell_type": "code",
   "execution_count": null,
   "metadata": {
    "executionInfo": {
     "elapsed": 274,
     "status": "ok",
     "timestamp": 1710258911145,
     "user": {
      "displayName": "Jing Wu",
      "userId": "10674388336962839260"
     },
     "user_tz": -60
    },
    "id": "k6qrk6z1XnvW"
   },
   "outputs": [],
   "source": [
    "import random\n",
    "\n",
    "def fizz(buzz):\n",
    "  result = []\n",
    "  for i in range(buzz-1):\n",
    "    print(\"Debug: Loop-Durchlauf mit i = \", i)\n",
    "    if (i % 2 == 0):\n",
    "      print(\"Debug: if-Kondition erfüllt\")\n",
    "      result += [random.randrange(1, 100)] #hier wird ein zufälliger Wert zwischen 1 und 100 an die Liste angehängt\n",
    "    elif i % 3 == 0:\n",
    "      print(\"Debug: elif-Kondition erfüllt i % 3 == 0\")\n",
    "      result = result[:len(result) - 1] #hier wird das letzte Element aus der Liste entfernt\n",
    "    elif i % 5 == 0:\n",
    "      print(\"Debug: elif-Kondition erfüllt i % 5 == 0 => BREAK\")\n",
    "      break #hier wird die Schleife abgebrochen\n",
    "    else:\n",
    "      print(\"Debug: else-Kondition erfüllt\")\n",
    "      result += [i] #hier wird der Wert von i an die Liste angehängt\n",
    "  return len(result)"
   ]
  },
  {
   "attachments": {},
   "cell_type": "markdown",
   "metadata": {},
   "source": [
    "![Screenshot 2024-03-13 at 00.22.37.png](<attachment:Screenshot 2024-03-13 at 00.22.37.png>)"
   ]
  },
  {
   "cell_type": "code",
   "execution_count": null,
   "metadata": {
    "colab": {
     "base_uri": "https://localhost:8080/"
    },
    "executionInfo": {
     "elapsed": 283,
     "status": "ok",
     "timestamp": 1710258919729,
     "user": {
      "displayName": "Jing Wu",
      "userId": "10674388336962839260"
     },
     "user_tz": -60
    },
    "id": "vBkFvPoFYAhH",
    "outputId": "219cfde4-9f8f-4f2c-f952-a6a76a2f142f"
   },
   "outputs": [],
   "source": [
    "fizz(1)\n",
    "\n",
    "# kein einziger Loopdurchlauf (siehe unten), da buzz-1 = 0\n",
    "# somit ist die Länge des result-Arrays 0"
   ]
  },
  {
   "cell_type": "code",
   "execution_count": null,
   "metadata": {},
   "outputs": [],
   "source": [
    "for i in range(0):\n",
    "    print(i)"
   ]
  },
  {
   "cell_type": "code",
   "execution_count": null,
   "metadata": {
    "colab": {
     "base_uri": "https://localhost:8080/"
    },
    "executionInfo": {
     "elapsed": 240,
     "status": "ok",
     "timestamp": 1710258925279,
     "user": {
      "displayName": "Jing Wu",
      "userId": "10674388336962839260"
     },
     "user_tz": -60
    },
    "id": "7B4ajO6cYB8m",
    "outputId": "f17eaf49-9485-4164-cacd-f74551551af3"
   },
   "outputs": [],
   "source": [
    "fizz(4)\n",
    "\n",
    "# "
   ]
  },
  {
   "cell_type": "code",
   "execution_count": null,
   "metadata": {
    "colab": {
     "base_uri": "https://localhost:8080/"
    },
    "executionInfo": {
     "elapsed": 232,
     "status": "ok",
     "timestamp": 1710258927877,
     "user": {
      "displayName": "Jing Wu",
      "userId": "10674388336962839260"
     },
     "user_tz": -60
    },
    "id": "v_mF_QPAYCBV",
    "outputId": "8878df4f-c449-4859-b7ce-f3d0741552a6"
   },
   "outputs": [],
   "source": [
    "fizz(5)"
   ]
  },
  {
   "cell_type": "markdown",
   "metadata": {
    "id": "npqjhGEiVa5W"
   },
   "source": [
    "### Q3\n"
   ]
  },
  {
   "cell_type": "code",
   "execution_count": null,
   "metadata": {
    "executionInfo": {
     "elapsed": 6,
     "status": "ok",
     "timestamp": 1710284546026,
     "user": {
      "displayName": "Jing Wu",
      "userId": "10674388336962839260"
     },
     "user_tz": -60
    },
    "id": "-ILJ6kw2YK75"
   },
   "outputs": [],
   "source": [
    "def get(elmnts):\n",
    "  for e in elmnts[::-1]: #hier wird die Liste rückwärts durchlaufen\n",
    "    if not isinstance(e, int) and not isinstance(e, str): #hier wird geprüft, ob das Element ein Integer oder ein String ist\n",
    "      continue # = wenn das Element weder ein Integer noch ein String ist, wird die Schleife abgebrochen und das nächste Element wird überprüft\n",
    "\n",
    "  # This is the only return statement\n",
    "  # It will return a string representation of e if the code works fine\n",
    "  # Otherwise, it will throw an error or return None \n",
    "  return str(e)"
   ]
  },
  {
   "attachments": {},
   "cell_type": "markdown",
   "metadata": {},
   "source": [
    "![Screenshot 2024-03-13 at 00.22.58.png](<attachment:Screenshot 2024-03-13 at 00.22.58.png>)"
   ]
  },
  {
   "cell_type": "markdown",
   "metadata": {},
   "source": [
    "[**isinstance(element, int/str)**](https://docs.python.org/3/library/functions.html#isinstance)\n",
    "- checks if *element* has the same data type as *int*/*str* (could be any other data type)\n",
    "\n",
    "**Slicing of a list** [start : end : step] \n",
    "- start (included)\n",
    "- end (excluded)\n",
    "- step (positive or negative): if positive, start from the beginning of the list; if negative, start from the end of the list backwards\n",
    "\n",
    "**continue**\n",
    "- forces to execute the next iteration of the loop while skipping the rest of the code inside the loop for the current iteration\n",
    "\n",
    "\n",
    "\n"
   ]
  },
  {
   "cell_type": "code",
   "execution_count": null,
   "metadata": {
    "colab": {
     "base_uri": "https://localhost:8080/",
     "height": 35
    },
    "executionInfo": {
     "elapsed": 4,
     "status": "ok",
     "timestamp": 1710284601215,
     "user": {
      "displayName": "Jing Wu",
      "userId": "10674388336962839260"
     },
     "user_tz": -60
    },
    "id": "P6Xfa022oMF9",
    "outputId": "8e351aa7-1c9b-40dc-9d49-1e4b245eae96"
   },
   "outputs": [],
   "source": [
    "get((1, 19, 'hello'))"
   ]
  },
  {
   "cell_type": "markdown",
   "metadata": {
    "id": "VGnh33CS6Ezl"
   },
   "source": [
    "### Q4"
   ]
  },
  {
   "cell_type": "code",
   "execution_count": null,
   "metadata": {
    "colab": {
     "base_uri": "https://localhost:8080/"
    },
    "executionInfo": {
     "elapsed": 5,
     "status": "ok",
     "timestamp": 1710284669528,
     "user": {
      "displayName": "Jing Wu",
      "userId": "10674388336962839260"
     },
     "user_tz": -60
    },
    "id": "W-Kf5EzI5wiE",
    "outputId": "925c08a0-40ed-4dca-f997-e4e0218b6439"
   },
   "outputs": [],
   "source": [
    "a = (1, 2, 3, [4, '1234'], 5)\n",
    "b = int(a[3][1][2][:])\n",
    "\n",
    "print(b)"
   ]
  },
  {
   "attachments": {},
   "cell_type": "markdown",
   "metadata": {},
   "source": [
    "![Screenshot 2024-03-13 at 00.23.05.png](<attachment:Screenshot 2024-03-13 at 00.23.05.png>)"
   ]
  },
  {
   "cell_type": "markdown",
   "metadata": {
    "id": "7i8jkgIF6TD4"
   },
   "source": [
    "### Q5"
   ]
  },
  {
   "cell_type": "code",
   "execution_count": null,
   "metadata": {
    "colab": {
     "base_uri": "https://localhost:8080/",
     "height": 162
    },
    "executionInfo": {
     "elapsed": 4,
     "status": "error",
     "timestamp": 1710284718380,
     "user": {
      "displayName": "Jing Wu",
      "userId": "10674388336962839260"
     },
     "user_tz": -60
    },
    "id": "OeSzeVZU6P3v",
    "outputId": "3de47f70-3080-496a-e9c7-e5d90fce339b"
   },
   "outputs": [],
   "source": [
    "t = [1, 2, 3, 'Mayer', 'Joe']\n",
    "t[3][2] = 'i'"
   ]
  },
  {
   "attachments": {},
   "cell_type": "markdown",
   "metadata": {},
   "source": [
    "![Screenshot 2024-03-13 at 00.23.12.png](<attachment:Screenshot 2024-03-13 at 00.23.12.png>)"
   ]
  },
  {
   "cell_type": "markdown",
   "metadata": {},
   "source": [
    "# Theory & Skills for Assignment 4"
   ]
  },
  {
   "cell_type": "code",
   "execution_count": null,
   "metadata": {},
   "outputs": [],
   "source": [
    "# Der Faktor einer Zahl n ist das Produkt aller Zahlen von 1 bis n\n",
    "\n",
    "# Bad (time-consuming/impossible) way:\n",
    "def factorial(n):\n",
    "    if n == 0:\n",
    "        return 1\n",
    "    elif n == 1:\n",
    "        return 1\n",
    "    elif n == 2:\n",
    "        return 1*2\n",
    "    elif n == 3:\n",
    "        return 1*2*3\n",
    "    elif n == 4:\n",
    "        return 1*2*3*4\n",
    "    else:\n",
    "        return(\"The number is too big\")\n",
    "\n",
    "print(factorial(4))"
   ]
  },
  {
   "cell_type": "code",
   "execution_count": null,
   "metadata": {},
   "outputs": [],
   "source": [
    "# Wir nutzen jeweils die selben Resultate immer wieder, und bauen darauf auf.\n",
    "# Das ist die Idee hinter der Rekursion\n",
    "# Good way:\n",
    "def factorial(n):\n",
    "    if n == 0:\n",
    "        return 1\n",
    "    else:\n",
    "        return n * factorial(n-1)\n",
    "\n",
    "    \n",
    "print(factorial(4))\n",
    "print(factorial(50))"
   ]
  },
  {
   "cell_type": "code",
   "execution_count": null,
   "metadata": {},
   "outputs": [],
   "source": [
    "def myfunc(n):\n",
    "    return len(n)\n",
    "\n",
    "x = map(myfunc, ('apple', 'banana', 'cherry'))\n",
    "x\n",
    "#list(map(myfunc, ('apple', 'banana', 'cherry')))\n",
    "\n",
    "for element in x:\n",
    "    print(element)\n",
    "\n",
    "# The map object is an iterator, so we can iterate over it, similar to a list"
   ]
  },
  {
   "cell_type": "code",
   "execution_count": null,
   "metadata": {},
   "outputs": [],
   "source": [
    "ages = [5, 12, 17, 18, 24, 32]\n",
    "\n",
    "def myFunc(x):\n",
    "  if x < 18:\n",
    "    return False\n",
    "  else:\n",
    "    return True\n",
    "\n",
    "adults = filter(myFunc, ages)\n",
    "adults\n",
    "\n",
    "for x in adults:\n",
    "    print(x)\n",
    "\n",
    "#list(filter(myFunc, ages))"
   ]
  }
 ],
 "metadata": {
  "colab": {
   "authorship_tag": "ABX9TyOm13/kEauM2/A03NhPMTVi",
   "provenance": []
  },
  "kernelspec": {
   "display_name": "Python 3 (ipykernel)",
   "language": "python",
   "name": "python3"
  },
  "language_info": {
   "codemirror_mode": {
    "name": "ipython",
    "version": 3
   },
   "file_extension": ".py",
   "mimetype": "text/x-python",
   "name": "python",
   "nbconvert_exporter": "python",
   "pygments_lexer": "ipython3",
   "version": "3.11.5"
  }
 },
 "nbformat": 4,
 "nbformat_minor": 1
}
